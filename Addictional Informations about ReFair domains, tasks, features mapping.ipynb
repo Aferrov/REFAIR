{
 "cells": [
  {
   "attachments": {},
   "cell_type": "markdown",
   "metadata": {},
   "source": [
    "# Addictional Informations about Mappings for ReFair pipeline outputs"
   ]
  },
  {
   "attachments": {},
   "cell_type": "markdown",
   "metadata": {},
   "source": [
    "The primary rationale behind ReFair's suggestions is to exploit relations among application domains, machine learning tasks, and sensitive features to provide recommendations related to a detected machine learning task or a detected application domain, only referring to the actual state of the art on the matter."
   ]
  },
  {
   "attachments": {},
   "cell_type": "markdown",
   "metadata": {},
   "source": [
    "## Relations among tasks and domains"
   ]
  },
  {
   "attachments": {},
   "cell_type": "markdown",
   "metadata": {},
   "source": [
    "The first assumption that we made to develop our first ReFair prototype consists in avoiding to provide suggestions only for tasks actually related to the application domain detected by the domain classifier. Despite we designed and developed the domain and tasks classifiers as indipendent modules due preserving the pipeline modularity and to avoid complex learning tasks, our prototype provide an explicit filtering in the machine learning tasks detection function, to delete tasks not related to the detected domain. "
   ]
  },
  {
   "attachments": {},
   "cell_type": "markdown",
   "metadata": {},
   "source": [
    "To develope this task filter we followed the following methodological steps:"
   ]
  },
  {
   "attachments": {},
   "cell_type": "markdown",
   "metadata": {},
   "source": [
    "<ol><li>First, we produced a mapping between application domains and machine learning tasks to make explicit only the learning tasks applied in a given application domain.\n",
    "To accomplish this mapping, we exploited the original dataset taxonomy, relating a specific application domain to a particular learning task when a dataset (or more) in the taxonomy (belonging to the domain) reported the learning task among those for which the dataset has been used in the past only; </li> <li>Then we exploited this mapping, in the tasks detection function, in order to filter out the tasks predicted by the tasks' classifier but not related to the detected domain.</li></ol>"
   ]
  },
  {
   "attachments": {},
   "cell_type": "markdown",
   "metadata": {},
   "source": [
    "A simple example of Domain-Task relation consists into assume the <i>machine learning classification</i> related to the application domain <i>Biology</i>, only when the Fabris' taxonomy contains a dataset (belonged to Biology) used for classification's problems. "
   ]
  },
  {
   "attachments": {},
   "cell_type": "markdown",
   "metadata": {},
   "source": [
    "## Relations among domains and features and Learnin tasks and features"
   ]
  },
  {
   "attachments": {},
   "cell_type": "markdown",
   "metadata": {},
   "source": [
    "Another necessary data transformation we performed on Fabris et al. datasets taxonomy consists in obtaining a precise mapping between (1) sensitive features and application domains and (2) sensitive features and machine learning tasks. We mapped a specific application domain or a specific learning task of the taxonomy on the related sensitive features only when one or more datasets were used in a particular application domain or for a specific learning task. For instance, we mapped the sensitive feature <i>financial status</i> onto the <i>Finance and Marketing</i> domain or the <i>Learning ranking</i> task, considering the financial datasets that were implied to perform ranking tasks and explicitly report the <i>financial status</i> as a sensitive feature."
   ]
  },
  {
   "attachments": {},
   "cell_type": "markdown",
   "metadata": {},
   "source": [
    "Successivelly to the domain and tasks detection, our Refairs prototype exploits the domains -> sensitive features, and the machine learning tasks -> sensitive features mappings, to obtain features related the feature connected to each of those detected items separatelly. "
   ]
  },
  {
   "attachments": {},
   "cell_type": "markdown",
   "metadata": {},
   "source": [
    "## Final intersections to User Outputs\n"
   ]
  },
  {
   "attachments": {},
   "cell_type": "markdown",
   "metadata": {},
   "source": [
    "As final step of the pipeline, the prototype intersects the feautures related to each tasks in order to provide to the user consistent suggestions about sensitive features related to the application of each detected task in the detected application domain."
   ]
  }
 ],
 "metadata": {
  "kernelspec": {
   "display_name": "myenv",
   "language": "python",
   "name": "python3"
  },
  "language_info": {
   "codemirror_mode": {
    "name": "ipython",
    "version": 3
   },
   "file_extension": ".py",
   "mimetype": "text/x-python",
   "name": "python",
   "nbconvert_exporter": "python",
   "pygments_lexer": "ipython3",
   "version": "3.9.9"
  },
  "orig_nbformat": 4
 },
 "nbformat": 4,
 "nbformat_minor": 2
}
